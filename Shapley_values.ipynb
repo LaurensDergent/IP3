{
  "nbformat": 4,
  "nbformat_minor": 0,
  "metadata": {
    "colab": {
      "provenance": [],
      "authorship_tag": "ABX9TyPIh9MRZIjL/Z50mBTUB3NP",
      "include_colab_link": true
    },
    "kernelspec": {
      "name": "python3",
      "display_name": "Python 3"
    },
    "language_info": {
      "name": "python"
    }
  },
  "cells": [
    {
      "cell_type": "markdown",
      "metadata": {
        "id": "view-in-github",
        "colab_type": "text"
      },
      "source": [
        "<a href=\"https://colab.research.google.com/github/LaurensDergent/IP3/blob/main/Shapley_values.ipynb\" target=\"_parent\"><img src=\"https://colab.research.google.com/assets/colab-badge.svg\" alt=\"Open In Colab\"/></a>"
      ]
    },
    {
      "cell_type": "markdown",
      "source": [
        "# TITEL1"
      ],
      "metadata": {
        "id": "jtJxuadhrxL3"
      }
    },
    {
      "cell_type": "code",
      "execution_count": 1,
      "metadata": {
        "id": "K8nrzce2insd",
        "colab": {
          "base_uri": "https://localhost:8080/"
        },
        "outputId": "cd8be50f-ca60-41f6-e864-cdba9fb93a2b"
      },
      "outputs": [
        {
          "output_type": "stream",
          "name": "stdout",
          "text": [
            "Test gelukt?\n",
            "Ja?\n"
          ]
        }
      ],
      "source": [
        "print(\"Test gelukt?\")\n",
        "print(\"Ja?\")"
      ]
    },
    {
      "cell_type": "markdown",
      "source": [],
      "metadata": {
        "id": "7rr9A59Hr7Hk"
      }
    }
  ]
}