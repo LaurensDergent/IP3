{
  "nbformat": 4,
  "nbformat_minor": 0,
  "metadata": {
    "colab": {
      "provenance": [],
      "include_colab_link": true
    },
    "kernelspec": {
      "name": "python3",
      "display_name": "Python 3"
    },
    "language_info": {
      "name": "python"
    }
  },
  "cells": [
    {
      "cell_type": "markdown",
      "metadata": {
        "id": "view-in-github",
        "colab_type": "text"
      },
      "source": [
        "<a href=\"https://colab.research.google.com/github/LaurensDergent/IP3/blob/main/Shapley_values.ipynb\" target=\"_parent\"><img src=\"https://colab.research.google.com/assets/colab-badge.svg\" alt=\"Open In Colab\"/></a>"
      ]
    },
    {
      "cell_type": "markdown",
      "source": [
        "# Introduction"
      ],
      "metadata": {
        "id": "e7D6AYIVs2hP"
      }
    },
    {
      "cell_type": "markdown",
      "source": [
        "Machine learning techniques are becoming increasingly popular, complex, powerful and accurate. However, these models are often \"black boxes\". It is often difficult to know how these models come to a prediction. Several techniques exist to explain the prediction of machine learning models. One popular technique, which will be used in this project, is SHAP (SHapley Additive exPlanations) values. SHAP values measure how much each feature (such as income, age, ...) contributes to the model's prediction. So SHAP values can help identify the most important features for the model and how they affect the outcome. This method comes from cooperative game theory."
      ],
      "metadata": {
        "id": "K9a5XAM21uyN"
      }
    },
    {
      "cell_type": "markdown",
      "source": [
        "# Machine learning vs normal\n",
        "\n"
      ],
      "metadata": {
        "id": "JpAJF_dAd6_k"
      }
    },
    {
      "cell_type": "markdown",
      "source": [],
      "metadata": {
        "id": "4tGjNRlSeEAw"
      }
    },
    {
      "cell_type": "markdown",
      "source": [
        "# SHAP values in game theory"
      ],
      "metadata": {
        "id": "vNX7jWi-tAJF"
      }
    },
    {
      "cell_type": "markdown",
      "source": [
        "In a cooperative game, players have the opportunity to form coalitions. Depending on the coalition formed, a certain outcome can be achieved. SHAP values can provide a fair distribution of profits to the players.\n",
        "\n",
        "This will first be explained using an example. Then, the general formula for calculating SHAP values in game theory will be explained. Finally, it is discussed why this is a fair distribution."
      ],
      "metadata": {
        "id": "o5ABuNEM823a"
      }
    },
    {
      "cell_type": "markdown",
      "source": [
        "## Example"
      ],
      "metadata": {
        "id": "12zzD7nttERS"
      }
    },
    {
      "cell_type": "markdown",
      "source": [
        "As an example, we will consider that players play a game together and achieve a certain score. The question is how can the score be attributed to each player?\n",
        "\n",
        "In the first example, there are only two players. Then it will be explained how a fair attribution of the score can be done if there are multiple players."
      ],
      "metadata": {
        "id": "9vzd5OSis0I3"
      }
    },
    {
      "cell_type": "markdown",
      "source": [
        "### Example 2 players"
      ],
      "metadata": {
        "id": "A1jwhJGJpMoP"
      }
    },
    {
      "cell_type": "markdown",
      "source": [
        "Suppose the following scores are obtained:\n",
        "\n",
        "* Coalition of player 1 and player 2: score of 100\n",
        "* Only player 1: score of 80\n",
        "* Only player 2: score of 60\n",
        "* No players: score of 0\n",
        "\n",
        "It is clear that player 1 contributed more to the total score, but how might the total contribution to the score now be distributed?"
      ],
      "metadata": {
        "id": "Ywm_ttfI4jQy"
      }
    },
    {
      "cell_type": "markdown",
      "source": [
        "A way to have insight into the contribution of each player, is by calculating the expected marginal contribution of each player. To calculate the expected marginal contribution, the contribution of a player to all possible coalitions is considered. The expected marginal contribution of a player is than the weighted average of the players contribution to all the coalitions.\n",
        "\n",
        "\n",
        "Player 1's marginal contribution for each possible coalition is as follows, with the notation C_x for the score of coalition x:\n",
        "\n",
        "*   C_12 - C_2 = 100 - 60 = 40\n",
        "*   C_1 - C_0 = 80 - 0 = 80\n",
        "\n",
        "So, expected marginal contribution of Player 1: (40 + 80)/2 = 60\n",
        "\n",
        "\n",
        "Player 2's marginal contribution (MC_2) is as follows:\n",
        "\n",
        "*   C_12 - C_1 = 20\n",
        "*   C_2 - C_0 = 60\n",
        "\n",
        "So, expected marginal contribution of Player 2: (20 + 60)/2 = 40\n",
        "\n",
        "Note that the sum of the expected marginal contribution of player 1 and player 2 are equal to the score when they form a coalition."
      ],
      "metadata": {
        "id": "U4TPQ4VEdzY_"
      }
    },
    {
      "cell_type": "markdown",
      "source": [
        "### Example multiple players"
      ],
      "metadata": {
        "id": "aAiJIISu3WTu"
      }
    },
    {
      "cell_type": "markdown",
      "source": [
        "To make it more general, the case of multiple players will be considered. Suppose the following scores are obtained:\n",
        "\n",
        "* Coalition of player 1, player 2 and player 3: score of 150\n",
        "* Coalition of player 1 and player 2: score of 100\n",
        "* Coalition of player 1 and player 3: score of 90\n",
        "* Coalition of player 2 and player 3: score of 80\n",
        "* Only player 1: score of 80\n",
        "* Only player 2: score of 60\n",
        "* Only player 3: score of 40\n",
        "* No players: score of 0\n",
        "\n",
        "How might the contribution to the score now be distributed?"
      ],
      "metadata": {
        "id": "bWY25TG-fnrf"
      }
    },
    {
      "cell_type": "markdown",
      "source": [
        "Player 1's marginal contributions to the coalitions are as follow:\n",
        "\n",
        "*   C_123 - C_23 = 70\n",
        "*   C_12 - C_2 = 40\n",
        "*   C_13 - C_3 = 50\n",
        "*   C_1 - C_0 = 80\n",
        "\n",
        "So expected marginal contribution of player 1: (1/3)*70 + (1/6)*40 + (1/6)*50 + (1/3)*80 = 65\n",
        "\n",
        "Analoog: expected marginal contribution of player 2 is 50 and of player 3 is 35."
      ],
      "metadata": {
        "id": "gucu308L4juN"
      }
    },
    {
      "cell_type": "markdown",
      "source": [
        "EXPLENETATIONS WEIGHTS\n",
        "\n",
        "The expected marginal contribution are in fact the SHAP values."
      ],
      "metadata": {
        "id": "JlCG7W1NoIte"
      }
    },
    {
      "cell_type": "markdown",
      "source": [],
      "metadata": {
        "id": "8EiVYhfEnx_a"
      }
    },
    {
      "cell_type": "markdown",
      "source": [
        "## Formula"
      ],
      "metadata": {
        "id": "tvSF3Uwv3cKT"
      }
    },
    {
      "cell_type": "markdown",
      "source": [
        "The generalised formula to compute the SHAP value for player i if there are p players, is as follow (taken from [1]):"
      ],
      "metadata": {
        "id": "ySR3a6FL3fnW"
      }
    },
    {
      "cell_type": "markdown",
      "source": [
        "![formula calculation SHAP values (game theory).png](data:image/png;base64,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)"
      ],
      "metadata": {
        "id": "NE6K473WXEzi"
      }
    },
    {
      "cell_type": "markdown",
      "source": [
        "The summation is over all the coalitions S that are a subset of M without m, where M is the set of all the players. So S are all coalitions to which player m can make a marginal contribution. The marginal contribution of player m is the obtained value with that player m added to coalition S minus the obtained value to the coalition S.\n",
        "\n",
        "The part in the formula with the division, is the weight for each marginal contribution. Each part can be seen in the formula for the weight as follow [2]:\n",
        "\n",
        "*   |S|! : Number of ways players can join the coalition S, before player m joins\n",
        "*   (|M| - |S| -1)! : Number of ways players can join the coalition S, after player m joins the coalition\n",
        "* |M|! : Number of ways to form a coalition of M players\n",
        "\n",
        "\n",
        "\n"
      ],
      "metadata": {
        "id": "tpu8EGPHmEvz"
      }
    },
    {
      "cell_type": "markdown",
      "source": [
        "To extend this to machine learning, players can be seen as features and scores can be seen as the outcomes of the machine learning model."
      ],
      "metadata": {
        "id": "HubGX7mIcxuo"
      }
    },
    {
      "cell_type": "markdown",
      "source": [
        "## Fair distribution"
      ],
      "metadata": {
        "id": "K4elBjVzo7Xx"
      }
    },
    {
      "cell_type": "markdown",
      "source": [
        "The four axioms that define a fair distribution are [3]:\n",
        "\n",
        "*  **Efficiency:** A distribution is efficient if the sum of the attributions equals the total result\n",
        "* **Symmetry:** A distribution is symmetric if two or more attributes that have exactly the same contribution in all possible coalitions have equal attributions\n",
        "*  **Additivity/Linearity:** A distribution is additive/linear if the attribution of a player in a game with two or more separate games, is the sum of the attributions in the separate games\n",
        "*  **Dummy player:** A distribution deals correctly with a dummy player if a player who does not affect the game receives an attribution of zero\n",
        "\n"
      ],
      "metadata": {
        "id": "VozZnSmotsbM"
      }
    },
    {
      "cell_type": "markdown",
      "source": [
        "# SHAP values in Machine learning (theory)"
      ],
      "metadata": {
        "id": "5OA1gqyGtGoG"
      }
    },
    {
      "cell_type": "markdown",
      "source": [
        "## Example mode choice"
      ],
      "metadata": {
        "id": "XgZi6YmXfEox"
      }
    },
    {
      "cell_type": "markdown",
      "source": [
        "## Formula"
      ],
      "metadata": {
        "id": "XkN6lcoipQyF"
      }
    },
    {
      "cell_type": "markdown",
      "source": [
        "## Limitations of SHAP"
      ],
      "metadata": {
        "id": "u4kGSeTvppad"
      }
    },
    {
      "cell_type": "markdown",
      "source": [
        "### SHAP package"
      ],
      "metadata": {
        "id": "mPMK8DwMqwju"
      }
    },
    {
      "cell_type": "markdown",
      "source": [
        "### Feature dependecies"
      ],
      "metadata": {
        "id": "vBbmd2PHq3ha"
      }
    },
    {
      "cell_type": "markdown",
      "source": [
        "### Causal inference"
      ],
      "metadata": {
        "id": "DYrMt-HCq6CE"
      }
    },
    {
      "cell_type": "markdown",
      "source": [
        "### Human error"
      ],
      "metadata": {
        "id": "dEn0Zp45q_IO"
      }
    },
    {
      "cell_type": "markdown",
      "source": [
        "## (Different SHAP calculation methods)"
      ],
      "metadata": {
        "id": "PWAW1djxpTC7"
      }
    },
    {
      "cell_type": "markdown",
      "source": [
        "\n",
        "\n",
        "*   KernelSHAP\n",
        "*   TreeSHAP\n",
        "*   DeepSHAP\n",
        "\n",
        "\n"
      ],
      "metadata": {
        "id": "BI4CEfpbrdMZ"
      }
    },
    {
      "cell_type": "markdown",
      "source": [
        "# SHAP values in practical case"
      ],
      "metadata": {
        "id": "uchERxe50fE_"
      }
    },
    {
      "cell_type": "markdown",
      "source": [
        "# Bibliography"
      ],
      "metadata": {
        "id": "gbKbzEXz2Ox0"
      }
    },
    {
      "cell_type": "markdown",
      "source": [
        "[1] Ignatov, D. I., & Kwuida, L. (2022). On Shapley value interpretability in concept-based learning with formal concept analysis. Annals of Mathematics and Artificial Intelligence, 90(11-12), 1197-1222.\n",
        "\n",
        "[2] O’Sullivan, C. (2023, March 12). From Shapley to SHAP — Understanding the Math - Towards Data Science. Medium. Retrieved February 29, 2024, from https://towardsdatascience.com/from-shapley-to-shap-understanding-the-math-e7155414213b\n",
        "\n",
        "[3] Li, M., Sun, H., Huang, Y., & Chen, H. (2024). Shapley value: from cooperative game to explainable artificial intelligence. Autonomous Intelligent Systems, 4(1), 1-12."
      ],
      "metadata": {
        "id": "MBeHdmp8yJZG"
      }
    }
  ]
}