{
  "nbformat": 4,
  "nbformat_minor": 0,
  "metadata": {
    "colab": {
      "provenance": [],
      "authorship_tag": "ABX9TyPkkEZIh57RqAwbEezkm7gj",
      "include_colab_link": true
    },
    "kernelspec": {
      "name": "python3",
      "display_name": "Python 3"
    },
    "language_info": {
      "name": "python"
    }
  },
  "cells": [
    {
      "cell_type": "markdown",
      "metadata": {
        "id": "view-in-github",
        "colab_type": "text"
      },
      "source": [
        "<a href=\"https://colab.research.google.com/github/LaurensDergent/IP3/blob/main/Shapley_values.ipynb\" target=\"_parent\"><img src=\"https://colab.research.google.com/assets/colab-badge.svg\" alt=\"Open In Colab\"/></a>"
      ]
    },
    {
      "cell_type": "markdown",
      "source": [
        "# Introduction"
      ],
      "metadata": {
        "id": "e7D6AYIVs2hP"
      }
    },
    {
      "cell_type": "markdown",
      "source": [
        "Machine learning techniques are becoming increasingly popular, complex, powerful and accurate. However, these models are often \"black boxes\". It is often difficult to know how these models come to a prediction. Several techniques exist to explain the prediction of machine learning models. One popular technique, which will be used in this project, is SHAP (SHapley Additive exPlanations) values. SHAP values measure how much each feature (such as income, age, ...) contributes to the model's prediction. So SHAP values can help identify the most important features for the model and how they affect the outcome. This method comes from cooperative game theory."
      ],
      "metadata": {
        "id": "K9a5XAM21uyN"
      }
    },
    {
      "cell_type": "markdown",
      "source": [
        "# Machine learning vs normal\n",
        "\n"
      ],
      "metadata": {
        "id": "JpAJF_dAd6_k"
      }
    },
    {
      "cell_type": "markdown",
      "source": [],
      "metadata": {
        "id": "4tGjNRlSeEAw"
      }
    },
    {
      "cell_type": "markdown",
      "source": [
        "# SHAP values in game theory"
      ],
      "metadata": {
        "id": "vNX7jWi-tAJF"
      }
    },
    {
      "cell_type": "markdown",
      "source": [
        "In a cooperative game, players have the opportunity to form coalitions. Depending on the coalition formed, a certain outcome can be achieved. SHAP values can provide a fair distribution of profits to the players.\n",
        "\n",
        "This will first be explained using an example. Then, the general formula for calculating SHAP values in game theory will be explained. Finally, it is discussed why this is a fair distribution."
      ],
      "metadata": {
        "id": "o5ABuNEM823a"
      }
    },
    {
      "cell_type": "markdown",
      "source": [
        "## Example"
      ],
      "metadata": {
        "id": "12zzD7nttERS"
      }
    },
    {
      "cell_type": "markdown",
      "source": [
        "As an example, we will consider that players play a game together and achieve a certain score. The question is how can the score be attributed to each player?\n",
        "\n",
        "In the first example, there are only two players. Then it will be explained how a fair attribution of the score can be done if there are multiple players."
      ],
      "metadata": {
        "id": "9vzd5OSis0I3"
      }
    },
    {
      "cell_type": "markdown",
      "source": [
        "### Example 2 players"
      ],
      "metadata": {
        "id": "A1jwhJGJpMoP"
      }
    },
    {
      "cell_type": "markdown",
      "source": [
        "Suppose the following scores are obtained:\n",
        "\n",
        "* Coalition of player 1 and player 2: score of 100\n",
        "* Only player 1: score of 80\n",
        "* Only player 2: score of 60\n",
        "* No players: score of 0\n",
        "\n"
      ],
      "metadata": {
        "id": "Ywm_ttfI4jQy"
      }
    },
    {
      "cell_type": "markdown",
      "source": [],
      "metadata": {
        "id": "U4TPQ4VEdzY_"
      }
    },
    {
      "cell_type": "markdown",
      "source": [
        "### Example multiple players"
      ],
      "metadata": {
        "id": "aAiJIISu3WTu"
      }
    },
    {
      "cell_type": "markdown",
      "source": [],
      "metadata": {
        "id": "bWY25TG-fnrf"
      }
    },
    {
      "cell_type": "markdown",
      "source": [],
      "metadata": {
        "id": "gucu308L4juN"
      }
    },
    {
      "cell_type": "markdown",
      "source": [
        "## Formula"
      ],
      "metadata": {
        "id": "tvSF3Uwv3cKT"
      }
    },
    {
      "cell_type": "markdown",
      "source": [
        "If"
      ],
      "metadata": {
        "id": "ySR3a6FL3fnW"
      }
    },
    {
      "cell_type": "markdown",
      "source": [
        "## Fair distribution"
      ],
      "metadata": {
        "id": "K4elBjVzo7Xx"
      }
    },
    {
      "cell_type": "markdown",
      "source": [
        "The four axioms that define a fair distribution are [1]:\n",
        "https://ieeexplore.ieee.org/abstract/document/9565902\n",
        "(Adding formulas?)\n",
        "\n",
        "*  **Efficiency:** A distribution is efficient if the sum of the attributions equals the total result\n",
        "* **Symmetry:** A distribution is symmetric if two or more attributes that have exactly the same contribution in all possible coalitions have equal attributions\n",
        "*  **Additivity/Linearity:** A distribution is additive/linear if the attribution of a player in a game with two or more separate games, is the sum of the attributions in the separate games\n",
        "*  **Dummy player:** A distribution deals correctly with a dummy player if a player who does not affect the game receives an attribution of zero\n",
        "\n"
      ],
      "metadata": {
        "id": "VozZnSmotsbM"
      }
    },
    {
      "cell_type": "markdown",
      "source": [
        "# SHAP values in Machine learning (theory)"
      ],
      "metadata": {
        "id": "5OA1gqyGtGoG"
      }
    },
    {
      "cell_type": "markdown",
      "source": [
        "## Example mode choice"
      ],
      "metadata": {
        "id": "XgZi6YmXfEox"
      }
    },
    {
      "cell_type": "markdown",
      "source": [
        "## Formula"
      ],
      "metadata": {
        "id": "XkN6lcoipQyF"
      }
    },
    {
      "cell_type": "markdown",
      "source": [
        "## Limitations of SHAP"
      ],
      "metadata": {
        "id": "u4kGSeTvppad"
      }
    },
    {
      "cell_type": "markdown",
      "source": [
        "### SHAP package"
      ],
      "metadata": {
        "id": "mPMK8DwMqwju"
      }
    },
    {
      "cell_type": "markdown",
      "source": [
        "### Feature dependecies"
      ],
      "metadata": {
        "id": "vBbmd2PHq3ha"
      }
    },
    {
      "cell_type": "markdown",
      "source": [
        "### Causal inference"
      ],
      "metadata": {
        "id": "DYrMt-HCq6CE"
      }
    },
    {
      "cell_type": "markdown",
      "source": [
        "### Human error"
      ],
      "metadata": {
        "id": "dEn0Zp45q_IO"
      }
    },
    {
      "cell_type": "markdown",
      "source": [
        "## (Different SHAP calculation methods)"
      ],
      "metadata": {
        "id": "PWAW1djxpTC7"
      }
    },
    {
      "cell_type": "markdown",
      "source": [
        "\n",
        "\n",
        "*   KernelSHAP\n",
        "*   TreeSHAP\n",
        "*   DeepSHAP\n",
        "\n",
        "\n"
      ],
      "metadata": {
        "id": "BI4CEfpbrdMZ"
      }
    },
    {
      "cell_type": "markdown",
      "source": [
        "# SHAP values in practical case"
      ],
      "metadata": {
        "id": "uchERxe50fE_"
      }
    },
    {
      "cell_type": "markdown",
      "source": [
        "# Bibliography"
      ],
      "metadata": {
        "id": "gbKbzEXz2Ox0"
      }
    },
    {
      "cell_type": "markdown",
      "source": [
        "[1] Li, M., Sun, H., Huang, Y., & Chen, H. (2024). Shapley value: from cooperative game to explainable artificial intelligence. Autonomous Intelligent Systems, 4(1), 1-12."
      ],
      "metadata": {
        "id": "MBeHdmp8yJZG"
      }
    }
  ]
}