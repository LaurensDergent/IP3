{
  "nbformat": 4,
  "nbformat_minor": 0,
  "metadata": {
    "colab": {
      "provenance": [],
      "authorship_tag": "ABX9TyM8LzxWn3+lc/FUbMW1MsR0",
      "include_colab_link": true
    },
    "kernelspec": {
      "name": "python3",
      "display_name": "Python 3"
    },
    "language_info": {
      "name": "python"
    }
  },
  "cells": [
    {
      "cell_type": "markdown",
      "metadata": {
        "id": "view-in-github",
        "colab_type": "text"
      },
      "source": [
        "<a href=\"https://colab.research.google.com/github/LaurensDergent/IP3/blob/main/Shapley_values.ipynb\" target=\"_parent\"><img src=\"https://colab.research.google.com/assets/colab-badge.svg\" alt=\"Open In Colab\"/></a>"
      ]
    },
    {
      "cell_type": "markdown",
      "source": [
        "# Introduction"
      ],
      "metadata": {
        "id": "e7D6AYIVs2hP"
      }
    },
    {
      "cell_type": "markdown",
      "source": [
        "Machine learning techniques are becoming increasingly popular, powerful and accurate. However, these models are often \"black boxes\". It is often difficult to know how these models come to a prediction. Several techniques exist to explain the prediction of machine learning models. One popular technique, which will be used in this project, is SHAP (SHapley Additive exPlanations) values. SHAP values measure how much each feature (such as income, age, ...) contributes to the model's prediction. So SHAP values can help identify the most important features for the model and how they affect the outcome. This method comes from cooperative game theory."
      ],
      "metadata": {
        "id": "K9a5XAM21uyN"
      }
    },
    {
      "cell_type": "markdown",
      "source": [
        "# SHAP values in game theory"
      ],
      "metadata": {
        "id": "vNX7jWi-tAJF"
      }
    },
    {
      "cell_type": "markdown",
      "source": [
        "In a cooperative game, players have the opportunity to form coalitions. Depending on the coalition formed, a certain outcome can be achieved. SHAP values can provide a fair distribution of profits to the players."
      ],
      "metadata": {
        "id": "o5ABuNEM823a"
      }
    },
    {
      "cell_type": "markdown",
      "source": [
        "### Example"
      ],
      "metadata": {
        "id": "12zzD7nttERS"
      }
    },
    {
      "cell_type": "markdown",
      "source": [
        "# Machine learning"
      ],
      "metadata": {
        "id": "5OA1gqyGtGoG"
      }
    },
    {
      "cell_type": "markdown",
      "source": [
        "# Bibliography"
      ],
      "metadata": {
        "id": "gbKbzEXz2Ox0"
      }
    },
    {
      "cell_type": "markdown",
      "source": [],
      "metadata": {
        "id": "PwuY4Bx-2QjB"
      }
    }
  ]
}