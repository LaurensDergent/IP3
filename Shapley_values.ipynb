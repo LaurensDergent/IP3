{
  "nbformat": 4,
  "nbformat_minor": 0,
  "metadata": {
    "colab": {
      "provenance": [],
      "authorship_tag": "ABX9TyMd/sX5fi77LuOVFbTGj+QF",
      "include_colab_link": true
    },
    "kernelspec": {
      "name": "python3",
      "display_name": "Python 3"
    },
    "language_info": {
      "name": "python"
    }
  },
  "cells": [
    {
      "cell_type": "markdown",
      "metadata": {
        "id": "view-in-github",
        "colab_type": "text"
      },
      "source": [
        "<a href=\"https://colab.research.google.com/github/LaurensDergent/IP3/blob/main/Shapley_values.ipynb\" target=\"_parent\"><img src=\"https://colab.research.google.com/assets/colab-badge.svg\" alt=\"Open In Colab\"/></a>"
      ]
    },
    {
      "cell_type": "markdown",
      "source": [
        "# Introduction"
      ],
      "metadata": {
        "id": "e7D6AYIVs2hP"
      }
    },
    {
      "cell_type": "markdown",
      "source": [
        "Machine learning techniques are becoming increasingly popular, powerful and accurate. However, these models are often \"black boxes\". It is often difficult to know how these models come to a prediction. Several techniques exist to explain the prediction of machine learning models. One popular technique, which will be used in this project, is SHAP (SHapley Additive exPlanations) values. SHAP values measure how much each feature (such as income, age, ...) contributes to the model's prediction. So SHAP values can help identify the most important features for the model and how they affect the outcome. This method comes from cooperative game theory."
      ],
      "metadata": {
        "id": "K9a5XAM21uyN"
      }
    },
    {
      "cell_type": "markdown",
      "source": [
        "# SHAP values in game theory"
      ],
      "metadata": {
        "id": "vNX7jWi-tAJF"
      }
    },
    {
      "cell_type": "markdown",
      "source": [
        "In a cooperative game, players have the opportunity to form coalitions. Depending on the coalition formed, a certain outcome can be achieved. SHAP values can provide a fair distribution of profits to the players.\n",
        "\n",
        "This will first be explained using an example. Then, the general formula for calculating SHAP values in game theory will be explained. Finally, it is discussed why this is a fair distribution."
      ],
      "metadata": {
        "id": "o5ABuNEM823a"
      }
    },
    {
      "cell_type": "markdown",
      "source": [
        "## Example"
      ],
      "metadata": {
        "id": "12zzD7nttERS"
      }
    },
    {
      "cell_type": "markdown",
      "source": [
        "## Formula"
      ],
      "metadata": {
        "id": "A1jwhJGJpMoP"
      }
    },
    {
      "cell_type": "markdown",
      "source": [
        "## Fair distribution"
      ],
      "metadata": {
        "id": "K4elBjVzo7Xx"
      }
    },
    {
      "cell_type": "markdown",
      "source": [
        "# SHAP values in Machine learning (theory)"
      ],
      "metadata": {
        "id": "5OA1gqyGtGoG"
      }
    },
    {
      "cell_type": "markdown",
      "source": [
        "## Formula"
      ],
      "metadata": {
        "id": "XkN6lcoipQyF"
      }
    },
    {
      "cell_type": "markdown",
      "source": [
        "## Different SHAP calculation methods"
      ],
      "metadata": {
        "id": "PWAW1djxpTC7"
      }
    },
    {
      "cell_type": "markdown",
      "source": [
        "## Limitations of SHAP"
      ],
      "metadata": {
        "id": "u4kGSeTvppad"
      }
    },
    {
      "cell_type": "markdown",
      "source": [
        "### SHAP package"
      ],
      "metadata": {
        "id": "mPMK8DwMqwju"
      }
    },
    {
      "cell_type": "markdown",
      "source": [
        "### Feature dependecies"
      ],
      "metadata": {
        "id": "vBbmd2PHq3ha"
      }
    },
    {
      "cell_type": "markdown",
      "source": [
        "### Causal inference"
      ],
      "metadata": {
        "id": "DYrMt-HCq6CE"
      }
    },
    {
      "cell_type": "markdown",
      "source": [
        "### Human error"
      ],
      "metadata": {
        "id": "dEn0Zp45q_IO"
      }
    },
    {
      "cell_type": "markdown",
      "source": [
        "# Bibliography"
      ],
      "metadata": {
        "id": "gbKbzEXz2Ox0"
      }
    },
    {
      "cell_type": "markdown",
      "source": [],
      "metadata": {
        "id": "PwuY4Bx-2QjB"
      }
    }
  ]
}